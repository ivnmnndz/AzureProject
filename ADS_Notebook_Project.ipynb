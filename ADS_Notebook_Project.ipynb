{
    "metadata": {
        "kernelspec": {
            "name": "SQL",
            "display_name": "SQL",
            "language": "sql"
        },
        "language_info": {
            "name": "sql",
            "version": ""
        }
    },
    "nbformat_minor": 2,
    "nbformat": 4,
    "cells": [
        {
            "cell_type": "markdown",
            "source": [
                "# Electric Vehicle Population Data\r\n",
                "This notebook explores a dataset detailing registrations of Battery Electric Vehicles and Plug-in Hybrid Electric Vehicles with the Washington State Department of Licensing. \r\n",
                "\r\n",
                "_You can access the dataset [here](https://catalog.data.gov/dataset/electric-vehicle-population-data)._"
            ],
            "metadata": {
                "azdata_cell_guid": "520fc044-90c1-451e-9baf-729eda7f3a87"
            },
            "attachments": {}
        },
        {
            "cell_type": "code",
            "source": [
                "USE EVPopulation;"
            ],
            "metadata": {
                "azdata_cell_guid": "0aeefc3e-b417-42c9-9b38-7e2e91f39e12",
                "language": "sql",
                "tags": []
            },
            "outputs": [
                {
                    "output_type": "display_data",
                    "data": {
                        "text/html": "Commands completed successfully."
                    },
                    "metadata": {}
                },
                {
                    "output_type": "display_data",
                    "data": {
                        "text/html": "Total execution time: 00:00:00"
                    },
                    "metadata": {}
                }
            ],
            "execution_count": 2
        },
        {
            "cell_type": "markdown",
            "source": [
                "## What is the most popular brand of Electric Vehicles in Washington state?"
            ],
            "metadata": {
                "azdata_cell_guid": "1c2a436d-64b8-4c9b-b46b-f8e535e2a1d4"
            },
            "attachments": {}
        },
        {
            "cell_type": "markdown",
            "source": [
                "\r\n",
                "We ask this question to find the leading brands in Washington state in terms of market share and consumer preference.\r\n",
                "\r\n",
                "Tesla leads with over 84,000 vehicles. That's an impressive 55% market share of the top ten brands and the clear favorite. \r\n",
                "Chevrolet follows with 14,321, Nissan with 14,239, Ford with 10,048 and Kia with 8,671 collectively totaling 47,279 rounding out the top 5 most popular brands in Washington state.\r\n",
                "\r\n",
                ""
            ],
            "metadata": {
                "azdata_cell_guid": "89763e3c-dfe3-4363-b9fb-1343c4b5a994"
            },
            "attachments": {}
        },
        {
            "cell_type": "code",
            "source": [
                "SELECT TOP 10 [Make], COUNT(*) AS [Brand]\r\n",
                "FROM [EVPopulation].[dbo].[Electric_Vehicle_Population_Data]\r\n",
                "GROUP BY [Make]\r\n",
                "ORDER BY [Brand] DESC;"
            ],
            "metadata": {
                "azdata_cell_guid": "484cd2a9-feab-4011-bf56-b453fc10ba08",
                "language": "sql",
                "tags": []
            },
            "outputs": [
                {
                    "output_type": "display_data",
                    "data": {
                        "text/html": "(10 rows affected)"
                    },
                    "metadata": {}
                },
                {
                    "output_type": "display_data",
                    "data": {
                        "text/html": "Total execution time: 00:00:00.362"
                    },
                    "metadata": {}
                },
                {
                    "output_type": "execute_result",
                    "metadata": {
                        "azdata_chartOptions": {
                            "type": "pie",
                            "dataDirection": "vertical",
                            "columnsAsLabels": true,
                            "labelFirstColumn": false,
                            "legendPosition": "top"
                        }
                    },
                    "execution_count": 3,
                    "data": {
                        "application/vnd.dataresource+json": {
                            "schema": {
                                "fields": [
                                    {
                                        "name": "Make"
                                    },
                                    {
                                        "name": "Brand"
                                    }
                                ]
                            },
                            "data": [
                                {
                                    "Make": "TESLA",
                                    "Brand": "84670"
                                },
                                {
                                    "Make": "CHEVROLET",
                                    "Brand": "14321"
                                },
                                {
                                    "Make": "NISSAN",
                                    "Brand": "14239"
                                },
                                {
                                    "Make": "FORD",
                                    "Brand": "10048"
                                },
                                {
                                    "Make": "KIA",
                                    "Brand": "8671"
                                },
                                {
                                    "Make": "BMW",
                                    "Brand": "7993"
                                },
                                {
                                    "Make": "TOYOTA",
                                    "Brand": "7181"
                                },
                                {
                                    "Make": "VOLKSWAGEN",
                                    "Brand": "5408"
                                },
                                {
                                    "Make": "JEEP",
                                    "Brand": "4996"
                                },
                                {
                                    "Make": "HYUNDAI",
                                    "Brand": "4977"
                                }
                            ]
                        },
                        "text/html": [
                            "<table>",
                            "<tr><th>Make</th><th>Brand</th></tr>",
                            "<tr><td>TESLA</td><td>84670</td></tr>",
                            "<tr><td>CHEVROLET</td><td>14321</td></tr>",
                            "<tr><td>NISSAN</td><td>14239</td></tr>",
                            "<tr><td>FORD</td><td>10048</td></tr>",
                            "<tr><td>KIA</td><td>8671</td></tr>",
                            "<tr><td>BMW</td><td>7993</td></tr>",
                            "<tr><td>TOYOTA</td><td>7181</td></tr>",
                            "<tr><td>VOLKSWAGEN</td><td>5408</td></tr>",
                            "<tr><td>JEEP</td><td>4996</td></tr>",
                            "<tr><td>HYUNDAI</td><td>4977</td></tr>",
                            "</table>"
                        ]
                    }
                }
            ],
            "execution_count": 3
        },
        {
            "cell_type": "markdown",
            "source": [
                "## What is the Electric vehicle with the highest range?"
            ],
            "metadata": {
                "azdata_cell_guid": "a5bc0737-7fc8-44ab-a5e9-c361d13dc0f0"
            },
            "attachments": {}
        },
        {
            "cell_type": "markdown",
            "source": [
                "Charging an electric vehicle takes much longer than filling a gas tank, knowing how far a full charge can get you is important.   \n",
                "Tesla once again takes the number one spot with the Model Y's range of 291 miles, as well as other models taking 4 other spots on the top ten list."
            ],
            "metadata": {
                "azdata_cell_guid": "9c7f4546-6f13-4e36-9d5f-6d4da52296c4"
            },
            "attachments": {}
        },
        {
            "cell_type": "code",
            "source": [
                "SELECT \r\n",
                "  ([Make] +' '+ [Model]) AS [MakeModel],\r\n",
                "  AVG([Electric_Range]) AS [Range]\r\n",
                "FROM [EVPopulation].[dbo].[Electric_Vehicle_Population_Data]\r\n",
                "WHERE [Electric_Range] > 100\r\n",
                "  AND [Electric_Vehicle_Type] = 'Battery Electric Vehicle (BEV)'\r\n",
                "  AND [Clean_Alternative_Fuel_Vehicle_CAFV_Eligibility] = 'Clean Alternative Fuel Vehicle Eligible'\r\n",
                "GROUP BY [Make], [Model]\r\n",
                "ORDER BY [Range] DESC;\r\n",
                ""
            ],
            "metadata": {
                "azdata_cell_guid": "465ec68b-c999-4abc-b088-94fced6156f2",
                "language": "sql"
            },
            "outputs": [
                {
                    "output_type": "display_data",
                    "data": {
                        "text/html": "(20 rows affected)"
                    },
                    "metadata": {}
                },
                {
                    "output_type": "display_data",
                    "data": {
                        "text/html": "Total execution time: 00:00:00.111"
                    },
                    "metadata": {}
                },
                {
                    "output_type": "execute_result",
                    "metadata": {
                        "azdata_chartOptions": {
                            "type": "bar",
                            "dataDirection": "horizontal",
                            "columnsAsLabels": true,
                            "labelFirstColumn": true,
                            "legendPosition": "top"
                        }
                    },
                    "execution_count": 4,
                    "data": {
                        "application/vnd.dataresource+json": {
                            "schema": {
                                "fields": [
                                    {
                                        "name": "MakeModel"
                                    },
                                    {
                                        "name": "Range"
                                    }
                                ]
                            },
                            "data": [
                                {
                                    "MakeModel": "TESLA MODEL Y",
                                    "Range": "291"
                                },
                                {
                                    "MakeModel": "HYUNDAI KONA",
                                    "Range": "258"
                                },
                                {
                                    "MakeModel": "CHEVROLET BOLT EV",
                                    "Range": "244"
                                },
                                {
                                    "MakeModel": "TESLA MODEL X",
                                    "Range": "240"
                                },
                                {
                                    "MakeModel": "KIA NIRO",
                                    "Range": "239"
                                },
                                {
                                    "MakeModel": "TESLA MODEL 3",
                                    "Range": "238"
                                },
                                {
                                    "MakeModel": "TESLA ROADSTER",
                                    "Range": "234"
                                },
                                {
                                    "MakeModel": "JAGUAR I-PACE",
                                    "Range": "234"
                                },
                                {
                                    "MakeModel": "POLESTAR PS2",
                                    "Range": "233"
                                },
                                {
                                    "MakeModel": "TESLA MODEL S",
                                    "Range": "227"
                                },
                                {
                                    "MakeModel": "AUDI E-TRON SPORTBACK",
                                    "Range": "218"
                                },
                                {
                                    "MakeModel": "AUDI E-TRON",
                                    "Range": "207"
                                },
                                {
                                    "MakeModel": "PORSCHE TAYCAN",
                                    "Range": "198"
                                },
                                {
                                    "MakeModel": "HYUNDAI IONIQ",
                                    "Range": "152"
                                },
                                {
                                    "MakeModel": "NISSAN LEAF",
                                    "Range": "144"
                                },
                                {
                                    "MakeModel": "BMW I3",
                                    "Range": "133"
                                },
                                {
                                    "MakeModel": "VOLKSWAGEN E-GOLF",
                                    "Range": "125"
                                },
                                {
                                    "MakeModel": "KIA SOUL EV",
                                    "Range": "111"
                                },
                                {
                                    "MakeModel": "MINI HARDTOP",
                                    "Range": "110"
                                },
                                {
                                    "MakeModel": "TOYOTA RAV4",
                                    "Range": "103"
                                }
                            ]
                        },
                        "text/html": [
                            "<table>",
                            "<tr><th>MakeModel</th><th>Range</th></tr>",
                            "<tr><td>TESLA MODEL Y</td><td>291</td></tr>",
                            "<tr><td>HYUNDAI KONA</td><td>258</td></tr>",
                            "<tr><td>CHEVROLET BOLT EV</td><td>244</td></tr>",
                            "<tr><td>TESLA MODEL X</td><td>240</td></tr>",
                            "<tr><td>KIA NIRO</td><td>239</td></tr>",
                            "<tr><td>TESLA MODEL 3</td><td>238</td></tr>",
                            "<tr><td>TESLA ROADSTER</td><td>234</td></tr>",
                            "<tr><td>JAGUAR I-PACE</td><td>234</td></tr>",
                            "<tr><td>POLESTAR PS2</td><td>233</td></tr>",
                            "<tr><td>TESLA MODEL S</td><td>227</td></tr>",
                            "<tr><td>AUDI E-TRON SPORTBACK</td><td>218</td></tr>",
                            "<tr><td>AUDI E-TRON</td><td>207</td></tr>",
                            "<tr><td>PORSCHE TAYCAN</td><td>198</td></tr>",
                            "<tr><td>HYUNDAI IONIQ</td><td>152</td></tr>",
                            "<tr><td>NISSAN LEAF</td><td>144</td></tr>",
                            "<tr><td>BMW I3</td><td>133</td></tr>",
                            "<tr><td>VOLKSWAGEN E-GOLF</td><td>125</td></tr>",
                            "<tr><td>KIA SOUL EV</td><td>111</td></tr>",
                            "<tr><td>MINI HARDTOP</td><td>110</td></tr>",
                            "<tr><td>TOYOTA RAV4</td><td>103</td></tr>",
                            "</table>"
                        ]
                    }
                }
            ],
            "execution_count": 4
        },
        {
            "cell_type": "markdown",
            "source": [
                "## Which utility providers support the most electric vehicles?"
            ],
            "metadata": {
                "azdata_cell_guid": "adeaa9d9-8aa5-486c-a8dd-6f15f61e5771"
            },
            "attachments": {}
        },
        {
            "cell_type": "markdown",
            "source": [
                "<span style=\"font-size:11.0pt;line-height:107%;\n",
                "font-family:&quot;Calibri&quot;,sans-serif;mso-ascii-theme-font:minor-latin;mso-fareast-font-family:\n",
                "Calibri;mso-fareast-theme-font:minor-latin;mso-hansi-theme-font:minor-latin;\n",
                "mso-bidi-font-family:&quot;Times New Roman&quot;;mso-bidi-theme-font:minor-bidi;\n",
                "mso-ansi-language:EN-US;mso-fareast-language:EN-US;mso-bidi-language:AR-SA\">The Electric Utility Providers table displays the number of electric vehicles associated with each utility provider. This information reveals which providers have the highest support for electric vehicles, helping to make informed decisions on enhancing charging infrastructure and services. Puget serves as the primary electric provider for the majority.</span>"
            ],
            "metadata": {
                "azdata_cell_guid": "29c49814-4e38-47e1-b5a7-5b3f18a6b47c"
            },
            "attachments": {}
        },
        {
            "cell_type": "code",
            "source": [
                "SELECT \r\n",
                "    CASE \r\n",
                "        WHEN [Electric_Utility] LIKE '%BONNEVILLE POWER ADMINISTRATION%' THEN 'BONNEVILLE POWER ADMINISTRATION'\r\n",
                "        WHEN [Electric_Utility] LIKE 'PUD No%' THEN 'PUD No'\r\n",
                "        WHEN [Electric_Utility] LIKE 'PUGET%' THEN 'PUGET'\r\n",
                "        ELSE [Electric_Utility]\r\n",
                "    END AS ElectricUtility, \r\n",
                "    COUNT(*) AS [Provider]\r\n",
                "FROM [EVPopulation].[dbo].[Electric_Vehicle_Population_Data]\r\n",
                "WHERE [Electric_Utility] IS NOT NULL\r\n",
                "GROUP BY \r\n",
                "    CASE \r\n",
                "        WHEN [Electric_Utility] LIKE '%BONNEVILLE POWER ADMINISTRATION%' THEN 'BONNEVILLE POWER ADMINISTRATION'\r\n",
                "        WHEN [Electric_Utility] LIKE 'PUD No%' THEN 'PUD No'\r\n",
                "        WHEN [Electric_Utility] LIKE 'PUGET%' THEN 'PUGET'\r\n",
                "        ELSE [Electric_Utility]\r\n",
                " END\r\n",
                "HAVING COUNT(*) > 10000\r\n",
                "ORDER BY [Provider] DESC;\r\n",
                ""
            ],
            "metadata": {
                "azdata_cell_guid": "61f135b1-17fa-48d3-899a-e95d8f2e5b2e",
                "language": "sql"
            },
            "outputs": [
                {
                    "output_type": "display_data",
                    "data": {
                        "text/html": "(3 rows affected)"
                    },
                    "metadata": {}
                },
                {
                    "output_type": "display_data",
                    "data": {
                        "text/html": "Total execution time: 00:00:00.303"
                    },
                    "metadata": {}
                },
                {
                    "output_type": "execute_result",
                    "execution_count": 5,
                    "data": {
                        "application/vnd.dataresource+json": {
                            "schema": {
                                "fields": [
                                    {
                                        "name": "ElectricUtility"
                                    },
                                    {
                                        "name": "Provider"
                                    }
                                ]
                            },
                            "data": [
                                {
                                    "ElectricUtility": "PUGET",
                                    "Provider": "113674"
                                },
                                {
                                    "ElectricUtility": "BONNEVILLE POWER ADMINISTRATION",
                                    "Provider": "37290"
                                },
                                {
                                    "ElectricUtility": "CITY OF SEATTLE - (WA)|CITY OF TACOMA - (WA)",
                                    "Provider": "33567"
                                }
                            ]
                        },
                        "text/html": "<table><tr><th>ElectricUtility</th><th>Provider</th></tr><tr><td>PUGET</td><td>113674</td></tr><tr><td>BONNEVILLE POWER ADMINISTRATION</td><td>37290</td></tr><tr><td>CITY OF SEATTLE - (WA)|CITY OF TACOMA - (WA)</td><td>33567</td></tr></table>"
                    },
                    "metadata": {
                        "azdata_chartOptions": {
                            "type": "doughnut",
                            "dataDirection": "vertical",
                            "columnsAsLabels": true,
                            "labelFirstColumn": false,
                            "legendPosition": "top"
                        }
                    }
                }
            ],
            "execution_count": 5
        },
        {
            "cell_type": "markdown",
            "source": [
                "## How many electric vehicles were purchased each year?"
            ],
            "metadata": {
                "azdata_cell_guid": "0ab5cefa-4f14-4d38-9d84-b8c6d016aedd"
            },
            "attachments": {}
        },
        {
            "cell_type": "markdown",
            "source": [
                "<span style=\"font-size:11.0pt;line-height:107%;\n",
                "font-family:&quot;Calibri&quot;,sans-serif;mso-ascii-theme-font:minor-latin;mso-fareast-font-family:\n",
                "Calibri;mso-fareast-theme-font:minor-latin;mso-hansi-theme-font:minor-latin;\n",
                "mso-bidi-font-family:&quot;Times New Roman&quot;;mso-bidi-theme-font:minor-bidi;\n",
                "mso-ansi-language:EN-US;mso-fareast-language:EN-US;mso-bidi-language:AR-SA\">The Vehicles By Year table records the number of electric vehicles purchased annually. Examining this data uncovers trends in electric vehicle sales and helps forecast future growth. Each year has shown an increase, although the data for 2024 is incomplete.</span>"
            ],
            "metadata": {
                "azdata_cell_guid": "acad86ab-7c4c-4ee5-9dee-2c2d383d6378"
            },
            "attachments": {}
        },
        {
            "cell_type": "code",
            "source": [
                "SELECT \r\n",
                "    [Model_Year] AS Year, \r\n",
                "    COUNT(*) AS [Amount of Vehicles]\r\n",
                "FROM [EVPopulation].[dbo].[Electric_Vehicle_Population_Data]\r\n",
                "GROUP BY [Model_Year]\r\n",
                "HAVING COUNT(*) > 10000\r\n",
                "ORDER BY [Model_Year];\r\n",
                ""
            ],
            "metadata": {
                "azdata_cell_guid": "10e4d6d0-6898-4a92-bd7f-d29cd6100855",
                "language": "sql"
            },
            "outputs": [
                {
                    "output_type": "display_data",
                    "data": {
                        "text/html": "(7 rows affected)"
                    },
                    "metadata": {}
                },
                {
                    "output_type": "display_data",
                    "data": {
                        "text/html": "Total execution time: 00:00:00.136"
                    },
                    "metadata": {}
                },
                {
                    "output_type": "execute_result",
                    "execution_count": 14,
                    "data": {
                        "application/vnd.dataresource+json": {
                            "schema": {
                                "fields": [
                                    {
                                        "name": "Year"
                                    },
                                    {
                                        "name": "Amount of Vehicles"
                                    }
                                ]
                            },
                            "data": [
                                {
                                    "Year": "2018",
                                    "Amount of Vehicles": "14340"
                                },
                                {
                                    "Year": "2019",
                                    "Amount of Vehicles": "10933"
                                },
                                {
                                    "Year": "2020",
                                    "Amount of Vehicles": "12149"
                                },
                                {
                                    "Year": "2021",
                                    "Amount of Vehicles": "19531"
                                },
                                {
                                    "Year": "2022",
                                    "Amount of Vehicles": "28116"
                                },
                                {
                                    "Year": "2023",
                                    "Amount of Vehicles": "60084"
                                },
                                {
                                    "Year": "2024",
                                    "Amount of Vehicles": "16963"
                                }
                            ]
                        },
                        "text/html": "<table><tr><th>Year</th><th>Amount of Vehicles</th></tr><tr><td>2018</td><td>14340</td></tr><tr><td>2019</td><td>10933</td></tr><tr><td>2020</td><td>12149</td></tr><tr><td>2021</td><td>19531</td></tr><tr><td>2022</td><td>28116</td></tr><tr><td>2023</td><td>60084</td></tr><tr><td>2024</td><td>16963</td></tr></table>"
                    },
                    "metadata": {
                        "azdata_chartOptions": {
                            "type": "bar",
                            "dataDirection": "vertical",
                            "columnsAsLabels": true,
                            "labelFirstColumn": true,
                            "legendPosition": "none"
                        }
                    }
                }
            ],
            "execution_count": 14
        },
        {
            "cell_type": "markdown",
            "source": [
                "## Which cities have the highest concentrations of electric vehicles?"
            ],
            "metadata": {
                "azdata_cell_guid": "29022f44-d1e3-4118-b0b8-50ab239c51a6"
            },
            "attachments": {}
        },
        {
            "cell_type": "markdown",
            "source": [
                "The Vehicles By City table details the number of electric vehicles in different cities. This information identifies the cities with the highest concentrations of electric cars, aiding in the planning of charging stations and other necessary support. Seattle has the highest concentration of electric vehicles."
            ],
            "metadata": {
                "azdata_cell_guid": "29d971f0-d8f6-487f-900a-71c05110e1ae"
            },
            "attachments": {}
        },
        {
            "cell_type": "code",
            "source": [
                "SELECT \r\n",
                "    [City], \r\n",
                "    COUNT(*) AS NumVehicles\r\n",
                "FROM [EVPopulation].[dbo].[Electric_Vehicle_Population_Data]\r\n",
                "GROUP BY [City]\r\n",
                "HAVING COUNT(*) > 4000\r\n",
                "ORDER BY NumVehicles DESC;\r\n",
                "\r\n",
                ""
            ],
            "metadata": {
                "azdata_cell_guid": "129598af-1687-4ace-9d55-0afcd0f17289",
                "language": "sql"
            },
            "outputs": [
                {
                    "output_type": "display_data",
                    "data": {
                        "text/html": "(10 rows affected)"
                    },
                    "metadata": {}
                },
                {
                    "output_type": "display_data",
                    "data": {
                        "text/html": "Total execution time: 00:00:00.164"
                    },
                    "metadata": {}
                },
                {
                    "output_type": "execute_result",
                    "execution_count": 17,
                    "data": {
                        "application/vnd.dataresource+json": {
                            "schema": {
                                "fields": [
                                    {
                                        "name": "City"
                                    },
                                    {
                                        "name": "NumVehicles"
                                    }
                                ]
                            },
                            "data": [
                                {
                                    "City": "Seattle",
                                    "NumVehicles": "31436"
                                },
                                {
                                    "City": "Bellevue",
                                    "NumVehicles": "9582"
                                },
                                {
                                    "City": "Redmond",
                                    "NumVehicles": "6883"
                                },
                                {
                                    "City": "Vancouver",
                                    "NumVehicles": "6744"
                                },
                                {
                                    "City": "Bothell",
                                    "NumVehicles": "6278"
                                },
                                {
                                    "City": "Kirkland",
                                    "NumVehicles": "5709"
                                },
                                {
                                    "City": "Sammamish",
                                    "NumVehicles": "5595"
                                },
                                {
                                    "City": "Renton",
                                    "NumVehicles": "5584"
                                },
                                {
                                    "City": "Olympia",
                                    "NumVehicles": "4600"
                                },
                                {
                                    "City": "Tacoma",
                                    "NumVehicles": "4011"
                                }
                            ]
                        },
                        "text/html": "<table><tr><th>City</th><th>NumVehicles</th></tr><tr><td>Seattle</td><td>31436</td></tr><tr><td>Bellevue</td><td>9582</td></tr><tr><td>Redmond</td><td>6883</td></tr><tr><td>Vancouver</td><td>6744</td></tr><tr><td>Bothell</td><td>6278</td></tr><tr><td>Kirkland</td><td>5709</td></tr><tr><td>Sammamish</td><td>5595</td></tr><tr><td>Renton</td><td>5584</td></tr><tr><td>Olympia</td><td>4600</td></tr><tr><td>Tacoma</td><td>4011</td></tr></table>"
                    },
                    "metadata": {
                        "azdata_chartOptions": {
                            "type": "pie",
                            "dataDirection": "vertical",
                            "columnsAsLabels": true,
                            "labelFirstColumn": false,
                            "legendPosition": "top",
                            "dataType": "number"
                        }
                    }
                }
            ],
            "execution_count": 17
        }
    ]
}